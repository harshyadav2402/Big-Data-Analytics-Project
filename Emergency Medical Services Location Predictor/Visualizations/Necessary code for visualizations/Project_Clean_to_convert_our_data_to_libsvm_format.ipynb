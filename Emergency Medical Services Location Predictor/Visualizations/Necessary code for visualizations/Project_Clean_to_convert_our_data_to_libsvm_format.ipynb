{
 "cells": [
  {
   "cell_type": "code",
   "execution_count": 3,
   "metadata": {},
   "outputs": [
    {
     "data": {
      "text/html": [
       "<div>\n",
       "<style>\n",
       "    .dataframe thead tr:only-child th {\n",
       "        text-align: right;\n",
       "    }\n",
       "\n",
       "    .dataframe thead th {\n",
       "        text-align: left;\n",
       "    }\n",
       "\n",
       "    .dataframe tbody tr th {\n",
       "        vertical-align: top;\n",
       "    }\n",
       "</style>\n",
       "<table border=\"1\" class=\"dataframe\">\n",
       "  <thead>\n",
       "    <tr style=\"text-align: right;\">\n",
       "      <th></th>\n",
       "      <th>LATITUDE</th>\n",
       "      <th>LONGITUDE</th>\n",
       "    </tr>\n",
       "  </thead>\n",
       "  <tbody>\n",
       "    <tr>\n",
       "      <th>0</th>\n",
       "      <td>40.733201</td>\n",
       "      <td>-73.991117</td>\n",
       "    </tr>\n",
       "    <tr>\n",
       "      <th>1</th>\n",
       "      <td>40.731975</td>\n",
       "      <td>-73.988158</td>\n",
       "    </tr>\n",
       "    <tr>\n",
       "      <th>2</th>\n",
       "      <td>40.733280</td>\n",
       "      <td>-73.987196</td>\n",
       "    </tr>\n",
       "    <tr>\n",
       "      <th>3</th>\n",
       "      <td>40.735898</td>\n",
       "      <td>-73.991228</td>\n",
       "    </tr>\n",
       "    <tr>\n",
       "      <th>4</th>\n",
       "      <td>40.730577</td>\n",
       "      <td>-73.992424</td>\n",
       "    </tr>\n",
       "  </tbody>\n",
       "</table>\n",
       "</div>"
      ],
      "text/plain": [
       "    LATITUDE  LONGITUDE\n",
       "0  40.733201 -73.991117\n",
       "1  40.731975 -73.988158\n",
       "2  40.733280 -73.987196\n",
       "3  40.735898 -73.991228\n",
       "4  40.730577 -73.992424"
      ]
     },
     "execution_count": 3,
     "metadata": {},
     "output_type": "execute_result"
    }
   ],
   "source": [
    "import pandas as pd\n",
    "\n",
    "df = pd.read_csv('10003_Fire_Incident_Dispatch_Data_2016_with_coordinates.csv')\n",
    "df = df[['LATITUDE', 'LONGITUDE']]"
   ]
  },
  {
   "cell_type": "code",
   "execution_count": 7,
   "metadata": {},
   "outputs": [],
   "source": [
    "import random\n",
    "\n",
    "fw = open('1003_coordinates_libsvmformat.txt','wt')\n",
    "\n",
    "for i in range(len(df)):\n",
    "    fw.write(\"{:02.0f}\".format(i) + ' ')\n",
    "    for j in range(1):\n",
    "        fw.write(\"1:\"+\"{:02.5f}\".format(df.iloc[i]['LATITUDE']) + ' ' + \"2:\"+\"{:02.5f}\".format(df.iloc[i]['LONGITUDE']))\n",
    "    fw.write('\\n')\n",
    "    \n",
    "fw.close()"
   ]
  },
  {
   "cell_type": "code",
   "execution_count": null,
   "metadata": {
    "collapsed": true
   },
   "outputs": [],
   "source": []
  }
 ],
 "metadata": {
  "kernelspec": {
   "display_name": "Python 3",
   "language": "python",
   "name": "python3"
  },
  "language_info": {
   "codemirror_mode": {
    "name": "ipython",
    "version": 3
   },
   "file_extension": ".py",
   "mimetype": "text/x-python",
   "name": "python",
   "nbconvert_exporter": "python",
   "pygments_lexer": "ipython3",
   "version": "3.6.2"
  }
 },
 "nbformat": 4,
 "nbformat_minor": 2
}
